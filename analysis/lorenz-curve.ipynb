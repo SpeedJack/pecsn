{
 "cells": [
  {
   "cell_type": "markdown",
   "id": "floppy-controversy",
   "metadata": {},
   "source": [
    "# Plot Lorenz Curve"
   ]
  },
  {
   "cell_type": "code",
   "execution_count": null,
   "id": "finite-utilization",
   "metadata": {},
   "outputs": [],
   "source": [
    "import os\n",
    "import math\n",
    "import pandas as pd\n",
    "import numpy as np\n",
    "import matplotlib.pyplot as plt\n",
    "from scipy import stats\n",
    "from IPython.display import display, HTML\n",
    "%matplotlib inline\n",
    "\n",
    "def parse_if_number(s):\n",
    "    try: return float(s)\n",
    "    except: return True if s==\"true\" else False if s==\"false\" else s if s else None\n",
    "\n",
    "def parse_ndarray(s):\n",
    "    return np.fromstring(s, sep=' ') if s else None\n",
    "\n",
    "def get_file_name(name):\n",
    "    return name.replace(':', '-')"
   ]
  },
  {
   "cell_type": "markdown",
   "id": "concerned-italian",
   "metadata": {},
   "source": [
    "## Config"
   ]
  },
  {
   "cell_type": "code",
   "execution_count": null,
   "id": "executed-imaging",
   "metadata": {},
   "outputs": [],
   "source": [
    "inputFile = 'data.csv'\n",
    "repetitionsCount = -1 # -1 = auto-detect\n",
    "factors = ['R', 'T', 'm', 'D']\n",
    "\n",
    "# Plots\n",
    "plotSize = (8, 8)\n",
    "plotStyle = 'seaborn-whitegrid'\n",
    "scatterShowLines = True\n",
    "# Save\n",
    "saveFigures = False\n",
    "\n",
    "# Filter scalars\n",
    "scalarsFilter = ['Floorplan.userCount', 'Floorplan.coveredUsers:sum', 'Floorplan.collisions:sum', 'Floorplan.msgsPerSlot:sum']\n",
    "# Filter vectors\n",
    "vectorsFilter = ['Floorplan.coveredUsers:vector']\n",
    "# Percentiles\n",
    "percentiles = [0.25, 0.5, 0.75, 0.9, 0.95]\n",
    "\n",
    "# Performance indexes\n",
    "perfIndexes = [\n",
    "    ('coveredUsersPercent', 'percentage of covered users'),\n",
    "    ('Floorplan.collisions:sum', 'total number of collisions'),\n",
    "    ('Floorplan.msgsPerSlot:sum', 'total number of messages sent'),\n",
    "]\n",
    "\n",
    "intPercentiles = [int(i*100) for i in percentiles]\n",
    "vecPerfIndexes = []\n",
    "for intPercentile in intPercentiles:\n",
    "    vecPerfIndexes.append(('broadcastTime' + str(intPercentile), 'Broadcast time needed to reach the ' + str(intPercentile) + 'th percentile of the coverage'))\n",
    "for v in vecPerfIndexes:\n",
    "    perfIndexes.append(v)"
   ]
  },
  {
   "cell_type": "markdown",
   "id": "hearing-mississippi",
   "metadata": {},
   "source": [
    "## Load scalars"
   ]
  },
  {
   "cell_type": "code",
   "execution_count": null,
   "id": "antique-theme",
   "metadata": {},
   "outputs": [],
   "source": [
    "df = pd.read_csv('exported_data/' + inputFile, converters = {\n",
    "    'attrvalue': parse_if_number,\n",
    "    'binedges': parse_ndarray,\n",
    "    'binvalues': parse_ndarray,\n",
    "    'vectime': parse_ndarray,\n",
    "    'vecvalue': parse_ndarray,\n",
    "})"
   ]
  },
  {
   "cell_type": "code",
   "execution_count": null,
   "id": "innocent-bradley",
   "metadata": {},
   "outputs": [],
   "source": [
    "if repetitionsCount <= 0: # auto-detect\n",
    "    repetitionsCount = int(df[df.attrname == 'repetition']['attrvalue'].max()) + 1\n",
    "print('Repetitions:', repetitionsCount)\n",
    "\n",
    "# Computed\n",
    "factorsCount = len(factors)\n",
    "configsCount = 2**factorsCount\n",
    "totalSims = configsCount*repetitionsCount\n",
    "\n",
    "\n",
    "display(HTML(\"<style>div.output_scroll { height: auto; max-height: 48em; }</style>\"))\n",
    "pd.set_option('display.max_rows', totalSims)\n",
    "if saveFigures:\n",
    "    os.makedirs('figures', exist_ok=True)"
   ]
  },
  {
   "cell_type": "code",
   "execution_count": null,
   "id": "accompanied-liberal",
   "metadata": {},
   "outputs": [],
   "source": [
    "scalars = df[(df.type == 'scalar') | ((df.type == 'itervar') & (df.attrname != 'TO')) | ((df.type == 'param') & (df.attrname == 'Floorplan.userCount')) | ((df.type == 'runattr') & (df.attrname == 'repetition'))]\n",
    "scalars = scalars.assign(qname = scalars.attrname.combine_first(scalars.module + '.' + scalars.name))\n",
    "for index, row in scalars[scalars.type == 'itervar'].iterrows():\n",
    "    val = scalars.loc[index, 'attrvalue']\n",
    "    if isinstance(val, str)  and not all(c.isdigit() for c in val):\n",
    "        scalars.loc[index, 'attrvalue'] = eval(val)\n",
    "scalars.value = scalars.value.combine_first(scalars.attrvalue.astype('float64'))\n",
    "scalars_wide = scalars.pivot_table(index=['run'], columns='qname', values='value')\n",
    "scalars_wide.sort_values([*factors, 'repetition'], inplace=True)\n",
    "count = 0\n",
    "for index in scalars_wide.index:\n",
    "    config = count // repetitionsCount\n",
    "    scalars_wide.loc[index, 'config'] = config\n",
    "    count += 1\n",
    "scalars_wide = scalars_wide[['config', 'repetition', *factors, *scalarsFilter]]\n",
    "\n",
    "# coverage\n",
    "scalars_wide['coveredUsersPercent'] = scalars_wide['Floorplan.coveredUsers:sum'] / (scalars_wide['Floorplan.userCount'] - 1)"
   ]
  },
  {
   "cell_type": "markdown",
   "id": "latest-tooth",
   "metadata": {},
   "source": [
    "## Load vectors"
   ]
  },
  {
   "cell_type": "code",
   "execution_count": null,
   "id": "convinced-gnome",
   "metadata": {},
   "outputs": [],
   "source": [
    "vectors = df[df.type == 'vector']\n",
    "vectors = vectors.assign(qname = vectors.module + '.' + vectors.name)\n",
    "for index in scalars_wide.index:\n",
    "    r = index\n",
    "    cfg = scalars_wide.loc[index, 'config']\n",
    "    rep = scalars_wide.loc[index, 'repetition']\n",
    "    vectors.loc[vectors.run == r, 'config'] = cfg\n",
    "    vectors.loc[vectors.run == r, 'repetition'] = rep\n",
    "vectors = vectors[vectors.qname.isin(vectorsFilter)]\n",
    "vectors.sort_values(['config', 'repetition', 'qname'], inplace=True)\n",
    "vectors = vectors[['config', 'repetition', 'qname', 'vectime', 'vecvalue']]"
   ]
  },
  {
   "cell_type": "markdown",
   "id": "pressing-coverage",
   "metadata": {},
   "source": [
    "## Compute scalars from vectors"
   ]
  },
  {
   "cell_type": "code",
   "execution_count": null,
   "id": "prescribed-japanese",
   "metadata": {},
   "outputs": [],
   "source": [
    "def get_percentile(percentile, vectime, vecvalue, totalvalue):\n",
    "    tofind = percentile * totalvalue\n",
    "    idx = 0\n",
    "    csum = vecvalue.cumsum()\n",
    "    for value in csum:\n",
    "        if value >= tofind:\n",
    "            return vectime[idx]\n",
    "        idx += 1\n",
    "    return math.inf\n",
    "\n",
    "for index, row in vectors.iterrows():\n",
    "    for vecPerf, percentile in zip(vecPerfIndexes, percentiles):\n",
    "        vecPerfIndex = vecPerf[0]\n",
    "        cfg = row['config']\n",
    "        rep = row['repetition']\n",
    "        if vecPerfIndex.startswith('broadcastTime'):\n",
    "            total = scalars_wide[(scalars_wide['config'] == cfg) & (scalars_wide['repetition'] == rep)]['Floorplan.userCount'].values[0] - 1\n",
    "        else:\n",
    "            raise Exception('Need to specify total for ' + vecPerfIndex + '. (coding required)')\n",
    "        value = get_percentile(percentile, row['vectime'], row['vecvalue'], total)\n",
    "        scalars_wide.loc[(scalars_wide['config'] == cfg) & (scalars_wide['repetition'] == rep), vecPerfIndex] = value"
   ]
  },
  {
   "cell_type": "markdown",
   "id": "sacred-certification",
   "metadata": {},
   "source": [
    "## Check for infinite/negative values"
   ]
  },
  {
   "cell_type": "code",
   "execution_count": null,
   "id": "friendly-papua",
   "metadata": {},
   "outputs": [],
   "source": [
    "skipped = []\n",
    "for config in range(0, configsCount):\n",
    "    for vecPerfIndex, _ in vecPerfIndexes:\n",
    "        maximum = scalars_wide.loc[scalars_wide['config'] == config, vecPerfIndex].max()\n",
    "        minimum = scalars_wide.loc[scalars_wide['config'] == config, vecPerfIndex].min()\n",
    "        if math.isinf(maximum) or minimum < 0:\n",
    "            skipped.append((config, vecPerfIndex))"
   ]
  },
  {
   "cell_type": "markdown",
   "id": "registered-combining",
   "metadata": {},
   "source": [
    "## Plot Lorenz curve"
   ]
  },
  {
   "cell_type": "code",
   "execution_count": null,
   "id": "fuzzy-switch",
   "metadata": {},
   "outputs": [],
   "source": [
    "for config in range(0, configsCount):\n",
    "    display(scalars_wide.loc[(scalars_wide.config == config) & (scalars_wide.repetition == 0)][['config', *factors]])\n",
    "    for perfIndex, perfIndexDesc in perfIndexes:\n",
    "        if (config, perfIndex) in skipped:\n",
    "            print(perfIndex, 'for config', config, 'skipped due to infinite/negative values in observations')\n",
    "            continue\n",
    "        X = np.sort(scalars_wide.loc[scalars_wide.config == config][perfIndex].values)\n",
    "        Y_lorenz = X.cumsum() / X.sum()\n",
    "        Y_lorenz = np.insert(Y_lorenz, 0, 0)\n",
    "        X_lorenz = np.arange(Y_lorenz.size)/(Y_lorenz.size - 1)\n",
    "        plt.figure(figsize=plotSize)\n",
    "        plt.style.use(plotStyle)\n",
    "        plt.plot(X_lorenz, Y_lorenz, 'o' + ('-' if scatterShowLines else ''))\n",
    "        plt.plot([0, 1], [0, 1], color='k')\n",
    "        plt.title(\"Lorenz curve for the \" + perfIndexDesc)\n",
    "        plt.ylabel(perfIndex)\n",
    "        if saveFigures:\n",
    "            fig = plt.gcf()\n",
    "            fig.savefig('figures/' + get_file_name(varname) + '-cfg' + config + '-lorenz-curve.png')\n",
    "        plt.show()\n",
    "    print('#######################')\n",
    "    print()\n",
    "        "
   ]
  }
 ],
 "metadata": {
  "kernelspec": {
   "display_name": "Python 3",
   "language": "python",
   "name": "python3"
  },
  "language_info": {
   "codemirror_mode": {
    "name": "ipython",
    "version": 3
   },
   "file_extension": ".py",
   "mimetype": "text/x-python",
   "name": "python",
   "nbconvert_exporter": "python",
   "pygments_lexer": "ipython3",
   "version": "3.9.2rc1"
  }
 },
 "nbformat": 4,
 "nbformat_minor": 5
}
