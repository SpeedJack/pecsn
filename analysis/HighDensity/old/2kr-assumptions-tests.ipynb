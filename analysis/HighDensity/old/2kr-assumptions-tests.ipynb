{
 "cells": [
  {
   "cell_type": "markdown",
   "id": "indoor-tonight",
   "metadata": {},
   "source": [
    "# Scenario 2 (High Density)"
   ]
  },
  {
   "cell_type": "code",
   "execution_count": null,
   "id": "opening-maker",
   "metadata": {
    "scrolled": true
   },
   "outputs": [],
   "source": [
    "import pandas as pd\n",
    "import numpy as np\n",
    "import matplotlib.pyplot as plt\n",
    "from scipy import stats\n",
    "from IPython.display import display, HTML\n",
    "%matplotlib inline\n",
    "\n",
    "def parse_if_number(s):\n",
    "    try: return float(s)\n",
    "    except: return True if s==\"true\" else False if s==\"false\" else s if s else None\n",
    "\n",
    "def parse_ndarray(s):\n",
    "    return np.fromstring(s, sep=' ') if s else None"
   ]
  },
  {
   "cell_type": "markdown",
   "id": "controlling-scanning",
   "metadata": {},
   "source": [
    "## Config"
   ]
  },
  {
   "cell_type": "code",
   "execution_count": null,
   "id": "august-english",
   "metadata": {
    "scrolled": true
   },
   "outputs": [],
   "source": [
    "inputFile = '2kr-scalars.csv'\n",
    "repetitionsCount = -1 # -1 = auto-detect\n",
    "factors = ['R', 'T', 'm', 'D']\n",
    "\n",
    "showConstructedDF = True\n",
    "\n",
    "# Fitting\n",
    "distsFit = ['norm', 'uniform'] # Distributions to fit\n",
    "distsParams = [(), ()] # Distributions params\n",
    "outlierStddevDistance = 3 # Outliers identification\n",
    "\n",
    "# Plots\n",
    "histBinNum = 30 # Histograms\n",
    "histCenter = True # Center distribution\n",
    "plotSize = (10, 10)\n",
    "plotStyle = 'seaborn-whitegrid'\n",
    "scatterShowLines = False\n",
    "# Save\n",
    "saveFigures = False\n",
    "\n",
    "# Filter scalars\n",
    "scalarsFilter = ['Floorplan.userCount', 'Floorplan.coveredUsers:sum', 'Floorplan.collisions:sum', 'Floorplan.activityTime:last']\n",
    "# Residuals to compute\n",
    "residualNames = [\n",
    "    ('coveredUsersPercent', 'percentage of covered users (residuals)'),\n",
    "    ('collisions', 'total number of collisions (residuals)'),\n",
    "    ('activityTime', 'total broadcast time (residuals)'),\n",
    "]"
   ]
  },
  {
   "cell_type": "markdown",
   "id": "flying-dealing",
   "metadata": {},
   "source": [
    "## Load scalars"
   ]
  },
  {
   "cell_type": "code",
   "execution_count": null,
   "id": "supreme-harassment",
   "metadata": {
    "scrolled": true
   },
   "outputs": [],
   "source": [
    "df = pd.read_csv('exported_data/' + inputFile, converters = {\n",
    "    'attrvalue': parse_if_number,\n",
    "    'binedges': parse_ndarray,\n",
    "    'binvalues': parse_ndarray,\n",
    "    'vectime': parse_ndarray,\n",
    "    'vecvalue': parse_ndarray,\n",
    "})"
   ]
  },
  {
   "cell_type": "code",
   "execution_count": null,
   "id": "sealed-triangle",
   "metadata": {},
   "outputs": [],
   "source": [
    "if repetitionsCount <= 0: # auto-detect\n",
    "    repetitionsCount = int(df[df.attrname == 'repetition']['attrvalue'].max()) + 1\n",
    "print('Repetitions:', repetitionsCount)\n",
    "\n",
    "# Computed\n",
    "factorsCount = len(factors)\n",
    "configsCount = 2**factorsCount\n",
    "totalSims = configsCount*repetitionsCount\n",
    "\n",
    "# Scatter plot whitelists\n",
    "configsShown = range(0, configsCount)\n",
    "repetitionsShown = range(0, repetitionsCount)\n",
    "\n",
    "\n",
    "display(HTML(\"<style>div.output_scroll { height: auto; max-height: 48em; }</style>\"))\n",
    "pd.set_option('display.max_rows', totalSims)\n",
    "if saveFigures:\n",
    "    os.makedirs('figures', exist_ok=True)"
   ]
  },
  {
   "cell_type": "code",
   "execution_count": null,
   "id": "later-magazine",
   "metadata": {
    "scrolled": true
   },
   "outputs": [],
   "source": [
    "scalars = df[(df.type == 'scalar') | ((df.type == 'itervar') & (df.attrname != 'TO')) | ((df.type == 'param') & (df.attrname == 'Floorplan.userCount')) | ((df.type == 'runattr') & (df.attrname == 'repetition'))]\n",
    "scalars = scalars.assign(qname = scalars.attrname.combine_first(scalars.module + '.' + scalars.name))\n",
    "scalars.value = scalars.value.combine_first(scalars.attrvalue.astype('float64'))\n",
    "scalars_wide = scalars.pivot_table(index=['run'], columns='qname', values='value')\n",
    "scalars_wide.sort_values([*factors, 'repetition'], inplace=True)\n",
    "count = 0\n",
    "for index in scalars_wide.index:\n",
    "    config = count // repetitionsCount\n",
    "    scalars_wide.loc[index, 'config'] = config\n",
    "    count += 1\n",
    "scalars_wide = scalars_wide[['config', 'repetition', *factors, *scalarsFilter]]"
   ]
  },
  {
   "cell_type": "markdown",
   "id": "divided-antigua",
   "metadata": {},
   "source": [
    "## Compute residuals"
   ]
  },
  {
   "cell_type": "code",
   "execution_count": null,
   "id": "combined-filling",
   "metadata": {
    "scrolled": true
   },
   "outputs": [],
   "source": [
    "# coverage\n",
    "scalars_wide['coveredUsersPercent'] = scalars_wide['Floorplan.coveredUsers:sum'] / (scalars_wide['Floorplan.userCount'] - 1)\n",
    "scalars_wide['coveredUsersPercentMean'] = scalars_wide.groupby(factors)['coveredUsersPercent'].transform('mean')\n",
    "scalars_wide['coveredUsersPercentResidual'] = scalars_wide['coveredUsersPercent'] - scalars_wide['coveredUsersPercentMean']\n",
    "\n",
    "# collisions\n",
    "scalars_wide['collisionsMean'] = scalars_wide.groupby(factors)['Floorplan.collisions:sum'].transform('mean')\n",
    "scalars_wide['collisionsResidual'] = scalars_wide['Floorplan.collisions:sum'] - scalars_wide['collisionsMean']\n",
    "\n",
    "# activity (broadcast) time\n",
    "scalars_wide['activityTimeMean'] = scalars_wide.groupby(factors)['Floorplan.activityTime:last'].transform('mean')\n",
    "scalars_wide['activityTimeResidual'] = scalars_wide['Floorplan.activityTime:last'] - scalars_wide['activityTimeMean']"
   ]
  },
  {
   "cell_type": "markdown",
   "id": "internal-response",
   "metadata": {},
   "source": [
    "## Constructed DataFrame"
   ]
  },
  {
   "cell_type": "code",
   "execution_count": null,
   "id": "fundamental-administrator",
   "metadata": {
    "scrolled": true
   },
   "outputs": [],
   "source": [
    "if showConstructedDF:\n",
    "    display(scalars_wide.describe())\n",
    "    display(scalars_wide[(totalSims//2)-10:(totalSims//2)+10])\n",
    "else:\n",
    "    print('Skipping...')"
   ]
  },
  {
   "cell_type": "markdown",
   "id": "deluxe-phone",
   "metadata": {},
   "source": [
    "## Residual distributions (histograms)"
   ]
  },
  {
   "cell_type": "code",
   "execution_count": null,
   "id": "tender-bacon",
   "metadata": {
    "scrolled": true
   },
   "outputs": [],
   "source": [
    "for varname, vardesc in residualNames:\n",
    "    plt.figure(figsize=plotSize)\n",
    "    plt.style.use(plotStyle)\n",
    "    minval = scalars_wide[varname + 'Residual'].min()\n",
    "    maxval = scalars_wide[varname + 'Residual'].max()\n",
    "    if histCenter:\n",
    "        limit = max(abs(minval), abs(maxval))\n",
    "        minval = -limit\n",
    "        maxval = limit\n",
    "    plt.hist(scalars_wide[varname + 'Residual'].values.tolist(), bins=np.linspace(minval, maxval, histBinNum))\n",
    "    plt.title('Histogram for the ' + vardesc)\n",
    "    if saveFigures:\n",
    "        fig = plt.gcf()\n",
    "        fig.savefig('figures/' + varname + '-hist.png')\n",
    "    plt.show()"
   ]
  },
  {
   "cell_type": "markdown",
   "id": "indian-gospel",
   "metadata": {},
   "source": [
    "## Distribution fitting"
   ]
  },
  {
   "cell_type": "code",
   "execution_count": null,
   "id": "emerging-kingdom",
   "metadata": {
    "scrolled": true
   },
   "outputs": [],
   "source": [
    "for distribution, params in zip(distsFit, distsParams):\n",
    "    print('Trying to fit to a', distribution + ('({})'.format(', '.join(map(str, params))) if len(params) > 0 else ''), 'distribution:')\n",
    "    for varname, vardesc in residualNames:\n",
    "        plt.figure(figsize=plotSize)\n",
    "        plt.style.use(plotStyle)\n",
    "        residuals = scalars_wide[varname + 'Residual'].values.tolist()\n",
    "        result, line = stats.probplot(residuals, dist=distribution, sparams=params, plot=plt, rvalue=True)\n",
    "        #osm, _ = result\n",
    "        #slope, intercept, _ = line\n",
    "        plt.title(\"QQ plot for the \" + vardesc)\n",
    "        plt.xlabel(distribution + \" distribution\")\n",
    "        if saveFigures:\n",
    "            fig = plt.gcf()\n",
    "            fig.savefig('figures/' + varname + '-' + distribution + '-fit.png')\n",
    "        plt.show()"
   ]
  },
  {
   "cell_type": "markdown",
   "id": "specific-migration",
   "metadata": {},
   "source": [
    "### Outliers"
   ]
  },
  {
   "cell_type": "code",
   "execution_count": null,
   "id": "solar-entry",
   "metadata": {
    "scrolled": true
   },
   "outputs": [],
   "source": [
    "for varname, vardesc in residualNames:\n",
    "    print('Outliers for the ' + vardesc)\n",
    "    stddev = scalars_wide[varname + 'Residual'].std()\n",
    "    limit = outlierStddevDistance*stddev\n",
    "    print('total mean:', scalars_wide[varname + 'Mean'].mean())\n",
    "    print('stddev:', stddev)\n",
    "    print(str(outlierStddevDistance) + '*stddev:', limit)\n",
    "    outliers = scalars_wide[np.abs(scalars_wide[varname + 'Residual']) > limit]\n",
    "    display(outliers[['config', 'repetition', *factors, varname + 'Residual', varname + 'Mean']])"
   ]
  },
  {
   "cell_type": "markdown",
   "id": "prescription-aurora",
   "metadata": {},
   "source": [
    "## Independency test"
   ]
  },
  {
   "cell_type": "code",
   "execution_count": null,
   "id": "effective-restriction",
   "metadata": {
    "scrolled": true
   },
   "outputs": [],
   "source": [
    "display(scalars_wide.loc[(scalars_wide.repetition == 0) & (scalars_wide.config.isin(configsShown))][['config', *factors]])\n",
    "for varname, vardesc in residualNames:\n",
    "    y = []\n",
    "    x = []\n",
    "    for config in range(0, configsCount):\n",
    "        if config not in configsShown:\n",
    "            continue\n",
    "        x.append([config] * len(repetitionsShown))\n",
    "        y.append(scalars_wide.loc[(scalars_wide.config == config) & (scalars_wide.repetition.isin(repetitionsShown))][varname + 'Residual'].values.tolist())\n",
    "    plt.figure(figsize=plotSize)\n",
    "    plt.style.use(plotStyle)\n",
    "    plt.plot(x, y, 'o' + ('-' if scatterShowLines else ''))\n",
    "    plt.title(\"Test independency for the \" + vardesc)\n",
    "    plt.xlabel(\"Config number\")\n",
    "    plt.ylabel(\"Residuals\")\n",
    "    if saveFigures:\n",
    "        fig = plt.gcf()\n",
    "        fig.savefig('figures/' + varname + '-independency.png')\n",
    "    plt.show()"
   ]
  },
  {
   "cell_type": "markdown",
   "id": "collaborative-going",
   "metadata": {},
   "source": [
    "## Finite variance test"
   ]
  },
  {
   "cell_type": "code",
   "execution_count": null,
   "id": "prescribed-valentine",
   "metadata": {
    "scrolled": true
   },
   "outputs": [],
   "source": [
    "for varname, vardesc in residualNames:\n",
    "    y = []\n",
    "    x = []\n",
    "    for config in range(0, configsCount):\n",
    "        if config not in configsShown:\n",
    "            continue\n",
    "        x.append(scalars_wide.loc[(scalars_wide.config == config) & (scalars_wide.repetition.isin(repetitionsShown))][varname + 'Mean'].values.tolist())\n",
    "        y.append(scalars_wide.loc[(scalars_wide.config == config) & (scalars_wide.repetition.isin(repetitionsShown))][varname + 'Residual'].values.tolist())\n",
    "    plt.figure(figsize=plotSize)\n",
    "    plt.style.use(plotStyle)\n",
    "    plt.plot(x, y, 'o' + ('-' if scatterShowLines else ''))\n",
    "    plt.title(\"Test finite variance for the \" + vardesc)\n",
    "    plt.xlabel(\"Avg predicted response\")\n",
    "    plt.ylabel(\"Residuals\")\n",
    "    if saveFigures:\n",
    "        fig = plt.gcf()\n",
    "        fig.savefig('figures/' + varname + '-variance.png')\n",
    "    plt.show()"
   ]
  }
 ],
 "metadata": {
  "kernelspec": {
   "display_name": "Python 3",
   "language": "python",
   "name": "python3"
  },
  "language_info": {
   "codemirror_mode": {
    "name": "ipython",
    "version": 3
   },
   "file_extension": ".py",
   "mimetype": "text/x-python",
   "name": "python",
   "nbconvert_exporter": "python",
   "pygments_lexer": "ipython3",
   "version": "3.9.1"
  }
 },
 "nbformat": 4,
 "nbformat_minor": 5
}
