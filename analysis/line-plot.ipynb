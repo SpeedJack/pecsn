{
 "cells": [
  {
   "cell_type": "markdown",
   "id": "single-highlight",
   "metadata": {},
   "source": [
    "# Plot scalars on a line plot"
   ]
  },
  {
   "cell_type": "code",
   "execution_count": null,
   "id": "substantial-rates",
   "metadata": {},
   "outputs": [],
   "source": [
    "import os\n",
    "import math\n",
    "import pandas as pd\n",
    "import numpy as np\n",
    "import matplotlib.pyplot as plt\n",
    "from itertools import product, chain, combinations\n",
    "from scipy import stats\n",
    "from IPython.display import display, HTML\n",
    "%matplotlib inline\n",
    "\n",
    "def parse_if_number(s):\n",
    "    try: return float(s)\n",
    "    except: return True if s==\"true\" else False if s==\"false\" else s if s else None\n",
    "\n",
    "def parse_ndarray(s):\n",
    "    return np.fromstring(s, sep=' ') if s else None\n",
    "\n",
    "def get_file_name(name):\n",
    "    return name.replace(':', '-')"
   ]
  },
  {
   "cell_type": "markdown",
   "id": "valid-recipient",
   "metadata": {},
   "source": [
    "## Config"
   ]
  },
  {
   "cell_type": "code",
   "execution_count": null,
   "id": "dynamic-wagner",
   "metadata": {},
   "outputs": [],
   "source": [
    "inputFile = 'data.csv'\n",
    "repetitionsCount = -1 # -1 = auto-detect\n",
    "factor = 'N'\n",
    "\n",
    "tIntervalAlpha = 0.9\n",
    "\n",
    "plotSize = (10, 10)\n",
    "plotStyle = 'seaborn-whitegrid'\n",
    "saveFigures = False\n",
    "\n",
    "# Filter scalars\n",
    "scalarsFilter = ['Floorplan.userCount', 'Floorplan.coveredUsers:sum', 'Floorplan.collisions:sum', 'Floorplan.msgsPerSlot:sum']\n",
    "# Filter vectors\n",
    "vectorsFilter = ['Floorplan.coveredUsers:vector']\n",
    "# Percentiles\n",
    "percentiles = [0.25, 0.5, 0.75, 0.9, 0.95]\n",
    "\n",
    "# Performance indexes\n",
    "perfIndexes = [\n",
    "    ('coveredUsersPercent', 'percentage of covered users'),\n",
    "    ('Floorplan.collisions:sum', 'total number of collisions'),\n",
    "    ('Floorplan.msgsPerSlot:sum', 'total number of messages sent'),\n",
    "]\n",
    "intPercentiles = [int(i*100) for i in percentiles]\n",
    "vecPerfIndexes = []\n",
    "for intPercentile in intPercentiles:\n",
    "    vecPerfIndexes.append(('broadcastTime' + str(intPercentile), 'Broadcast time needed to reach the ' + str(intPercentile) + 'th percentile of the coverage'))\n",
    "for v in vecPerfIndexes:\n",
    "    perfIndexes.append(v)"
   ]
  },
  {
   "cell_type": "markdown",
   "id": "agreed-needle",
   "metadata": {},
   "source": [
    "## Load scalars"
   ]
  },
  {
   "cell_type": "code",
   "execution_count": null,
   "id": "sapphire-healing",
   "metadata": {},
   "outputs": [],
   "source": [
    "df = pd.read_csv('exported_data/' + inputFile, converters = {\n",
    "    'attrvalue': parse_if_number,\n",
    "    'binedges': parse_ndarray,\n",
    "    'binvalues': parse_ndarray,\n",
    "    'vectime': parse_ndarray,\n",
    "    'vecvalue': parse_ndarray,\n",
    "})"
   ]
  },
  {
   "cell_type": "code",
   "execution_count": null,
   "id": "favorite-origin",
   "metadata": {},
   "outputs": [],
   "source": [
    "if repetitionsCount <= 0: # auto-detect\n",
    "    repetitionsCount = int(df[df.attrname == 'repetition']['attrvalue'].max()) + 1\n",
    "print('Repetitions:', repetitionsCount)\n",
    "\n",
    "display(HTML(\"<style>div.output_scroll { height: auto; max-height: 48em; }</style>\"))\n",
    "pd.set_option('display.max_rows', 1000)\n",
    "pd.set_option('display.max_columns', 100)\n",
    "if saveFigures:\n",
    "    os.makedirs('figures', exist_ok=True)"
   ]
  },
  {
   "cell_type": "code",
   "execution_count": null,
   "id": "heated-instrumentation",
   "metadata": {},
   "outputs": [],
   "source": [
    "scalars = df[(df.type == 'scalar') | ((df.type == 'itervar') & (df.attrname != 'TO')) | ((df.type == 'param') & (df.attrname == 'Floorplan.userCount')) | ((df.type == 'runattr') & (df.attrname == 'repetition'))]\n",
    "scalars = scalars.assign(qname = scalars.attrname.combine_first(scalars.module + '.' + scalars.name))\n",
    "for index, row in scalars[scalars.type == 'itervar'].iterrows():\n",
    "    val = scalars.loc[index, 'attrvalue']\n",
    "    if isinstance(val, str)  and not all(c.isdigit() for c in val):\n",
    "        scalars.loc[index, 'attrvalue'] = eval(val)\n",
    "scalars.value = scalars.value.combine_first(scalars.attrvalue.astype('float64'))\n",
    "scalars_wide = scalars.pivot_table(index=['run'], columns='qname', values='value')\n",
    "scalars_wide.sort_values([factor, 'repetition'], inplace=True)\n",
    "scalars_wide = scalars_wide[[factor, 'repetition', *scalarsFilter]]\n",
    "\n",
    "# coverage\n",
    "scalars_wide['coveredUsersPercent'] = scalars_wide['Floorplan.coveredUsers:sum'] / (scalars_wide['Floorplan.userCount'] - 1)"
   ]
  },
  {
   "cell_type": "markdown",
   "id": "typical-situation",
   "metadata": {},
   "source": [
    "## Load vectors"
   ]
  },
  {
   "cell_type": "code",
   "execution_count": null,
   "id": "small-madrid",
   "metadata": {},
   "outputs": [],
   "source": [
    "vectors = df[df.type == 'vector']\n",
    "vectors = vectors.assign(qname = vectors.module + '.' + vectors.name)\n",
    "for index in scalars_wide.index:\n",
    "    r = index\n",
    "    fac = scalars_wide.loc[index, factor]\n",
    "    rep = scalars_wide.loc[index, 'repetition']\n",
    "    vectors.loc[vectors.run == r, factor] = fac\n",
    "    vectors.loc[vectors.run == r, 'repetition'] = rep\n",
    "vectors = vectors[vectors.qname.isin(vectorsFilter)]\n",
    "vectors.sort_values([factor, 'repetition', 'qname'], inplace=True)\n",
    "vectors = vectors[[factor, 'repetition', 'qname', 'vectime', 'vecvalue']]"
   ]
  },
  {
   "cell_type": "markdown",
   "id": "working-philadelphia",
   "metadata": {},
   "source": [
    "## Compute scalars from vectors"
   ]
  },
  {
   "cell_type": "code",
   "execution_count": null,
   "id": "curious-exhaust",
   "metadata": {},
   "outputs": [],
   "source": [
    "def get_percentile(percentile, vectime, vecvalue, totalvalue):\n",
    "    tofind = percentile * totalvalue\n",
    "    idx = 0\n",
    "    csum = vecvalue.cumsum()\n",
    "    for value in csum:\n",
    "        if value >= tofind:\n",
    "            return vectime[idx]\n",
    "        idx += 1\n",
    "    return math.inf\n",
    "\n",
    "for index, row in vectors.iterrows():\n",
    "    for vecPerf, percentile in zip(vecPerfIndexes, percentiles):\n",
    "        vecPerfIndex = vecPerf[0]\n",
    "        fac = row[factor]\n",
    "        rep = row['repetition']\n",
    "        if vecPerfIndex.startswith('broadcastTime'):\n",
    "            total = scalars_wide[(scalars_wide[factor] == fac) & (scalars_wide['repetition'] == rep)]['Floorplan.userCount'].values[0] - 1\n",
    "        else:\n",
    "            raise Exception('Need to specify total for ' + vecPerfIndex + '. (coding required)')\n",
    "        value = get_percentile(percentile, row['vectime'], row['vecvalue'], total)\n",
    "        scalars_wide.loc[(scalars_wide[factor] == fac) & (scalars_wide['repetition'] == rep), vecPerfIndex] = value\n",
    "    \n",
    "factorValues = scalars_wide[factor].unique()"
   ]
  },
  {
   "cell_type": "code",
   "execution_count": null,
   "id": "constitutional-duplicate",
   "metadata": {},
   "outputs": [],
   "source": [
    "for perfIndex, perfIndexDesc in perfIndexes:\n",
    "    x = []\n",
    "    y = []\n",
    "    err = []\n",
    "    poserr = []\n",
    "    for value in factorValues:\n",
    "        x.append(value)\n",
    "        obssum = 0\n",
    "        mean = scalars_wide[scalars_wide[factor] == value][perfIndex].mean()\n",
    "        variance = scalars_wide[scalars_wide[factor] == value][perfIndex].var()\n",
    "        _, positiveInterval = tuple(v*math.sqrt(variance/repetitionsCount) for v in stats.t.interval(tIntervalAlpha, repetitionsCount - 1))\n",
    "        y.append(mean)\n",
    "        if perfIndex == 'coveredUsersPercent':\n",
    "            poserr.append(min(1 - mean, positiveInterval))\n",
    "        err.append(positiveInterval)\n",
    "    if len(poserr) > 0:\n",
    "        err = [err, poserr]\n",
    "    plt.figure(figsize=plotSize)\n",
    "    plt.style.use(plotStyle)\n",
    "    plt.errorbar(x=np.array(x), y=np.array(y), yerr=np.array(err), capsize=3, linestyle='-', marker='.', markersize=10)\n",
    "    plt.title('Line plot for ' + perfIndexDesc)\n",
    "    plt.ylabel(perfIndex)\n",
    "    if saveFigures:\n",
    "        fig = plt.gcf()\n",
    "        fig.savefig('figures/' + get_file_name(perfIndex) + '-lineplot.png')\n",
    "    plt.show()"
   ]
  }
 ],
 "metadata": {
  "kernelspec": {
   "display_name": "Python 3",
   "language": "python",
   "name": "python3"
  },
  "language_info": {
   "codemirror_mode": {
    "name": "ipython",
    "version": 3
   },
   "file_extension": ".py",
   "mimetype": "text/x-python",
   "name": "python",
   "nbconvert_exporter": "python",
   "pygments_lexer": "ipython3",
   "version": "3.9.2rc1"
  }
 },
 "nbformat": 4,
 "nbformat_minor": 5
}
