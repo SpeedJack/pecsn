{
 "cells": [
  {
   "cell_type": "markdown",
   "id": "functional-dakota",
   "metadata": {},
   "source": [
    "# Plot histograms"
   ]
  },
  {
   "cell_type": "code",
   "execution_count": 1,
   "id": "mechanical-tourist",
   "metadata": {},
   "outputs": [],
   "source": [
    "import os\n",
    "import math\n",
    "import pandas as pd\n",
    "import numpy as np\n",
    "import matplotlib.pyplot as plt\n",
    "from scipy import stats\n",
    "from IPython.display import display, HTML\n",
    "%matplotlib inline\n",
    "\n",
    "def parse_if_number(s):\n",
    "    try: return float(s)\n",
    "    except: return True if s==\"true\" else False if s==\"false\" else s if s else None\n",
    "\n",
    "def parse_ndarray(s):\n",
    "    return np.fromstring(s, sep=' ') if s else None\n",
    "\n",
    "def get_file_name(name):\n",
    "    return name.replace(':', '-')"
   ]
  },
  {
   "cell_type": "markdown",
   "id": "duplicate-subscription",
   "metadata": {},
   "source": [
    "## Config"
   ]
  },
  {
   "cell_type": "code",
   "execution_count": 2,
   "id": "cross-congo",
   "metadata": {},
   "outputs": [],
   "source": [
    "inputFile = 'data.csv'\n",
    "repetitionsCount = -1 # -1 = auto-detect\n",
    "factors = ['R', 'T', 'm', 'D']\n",
    "\n",
    "# Plots\n",
    "histBinNum = 30 # Histograms\n",
    "histCenter = True # Center distribution\n",
    "plotSize = (10, 10)\n",
    "plotStyle = 'seaborn-whitegrid'\n",
    "# Save\n",
    "saveFigures = False\n",
    "\n",
    "# Filter scalars\n",
    "scalarsFilter = ['Floorplan.userCount']\n",
    "\n",
    "# Filter histograms\n",
    "histFilter = ['Floorplan.copies:histogram', 'Floorplan.collisions:histogram', 'Floorplan.totalCollisions:histogram', 'Floorplan.msgsPerSlot:histogram']\n",
    "\n",
    "histNames = [\n",
    "    ('Floorplan.copies:histogram', 'Number of copies received by each user in an hear window', 1),\n",
    "    ('Floorplan.collisions:histogram', 'Number of collisions received by the users', 1),\n",
    "    ('Floorplan.totalCollisions:histogram', 'Number of colliding messages received by the users in each slot', 1),\n",
    "    ('Floorplan.msgsPerSlot:histogram', 'Number of messages sent in each slot', 1),\n",
    "]"
   ]
  },
  {
   "cell_type": "markdown",
   "id": "sixth-passenger",
   "metadata": {},
   "source": [
    "## Load scalars"
   ]
  },
  {
   "cell_type": "code",
   "execution_count": 3,
   "id": "empirical-husband",
   "metadata": {},
   "outputs": [],
   "source": [
    "df = pd.read_csv('exported_data/' + inputFile, converters = {\n",
    "    'attrvalue': parse_if_number,\n",
    "    'binedges': parse_ndarray,\n",
    "    'binvalues': parse_ndarray,\n",
    "    'vectime': parse_ndarray,\n",
    "    'vecvalue': parse_ndarray,\n",
    "})"
   ]
  },
  {
   "cell_type": "code",
   "execution_count": 4,
   "id": "specialized-dutch",
   "metadata": {},
   "outputs": [
    {
     "name": "stdout",
     "output_type": "stream",
     "text": [
      "Repetitions: 10\n"
     ]
    }
   ],
   "source": [
    "if repetitionsCount <= 0: # auto-detect\n",
    "    repetitionsCount = int(df[df.attrname == 'repetition']['attrvalue'].max()) + 1\n",
    "print('Repetitions:', repetitionsCount)"
   ]
  },
  {
   "cell_type": "code",
   "execution_count": 5,
   "id": "indian-techno",
   "metadata": {},
   "outputs": [],
   "source": [
    "scalars = df[(df.type == 'scalar') | ((df.type == 'itervar') & (df.attrname != 'TO')) | ((df.type == 'param') & (df.attrname == 'Floorplan.userCount')) | ((df.type == 'runattr') & (df.attrname == 'repetition'))]\n",
    "scalars = scalars.assign(qname = scalars.attrname.combine_first(scalars.module + '.' + scalars.name))\n",
    "for index, row in scalars[scalars.type == 'itervar'].iterrows():\n",
    "    val = scalars.loc[index, 'attrvalue']\n",
    "    if isinstance(val, str)  and not all(c.isdigit() for c in val):\n",
    "        scalars.loc[index, 'attrvalue'] = eval(val)\n",
    "scalars.value = scalars.value.combine_first(scalars.attrvalue.astype('float64'))\n",
    "scalars_wide = scalars.pivot_table(index=['run'], columns='qname', values='value')\n",
    "scalars_wide.sort_values([*factors, 'repetition'], inplace=True)\n",
    "count = 0\n",
    "for index in scalars_wide.index:\n",
    "    config = count // repetitionsCount\n",
    "    scalars_wide.loc[index, 'config'] = config\n",
    "    count += 1\n",
    "scalars_wide = scalars_wide[['config', 'repetition', *factors, *scalarsFilter]]"
   ]
  },
  {
   "cell_type": "code",
   "execution_count": 6,
   "id": "conditional-gateway",
   "metadata": {},
   "outputs": [
    {
     "name": "stdout",
     "output_type": "stream",
     "text": [
      "Configs: 16\n"
     ]
    },
    {
     "data": {
      "text/html": [
       "<style>div.output_scroll { height: auto; max-height: 48em; }</style>"
      ],
      "text/plain": [
       "<IPython.core.display.HTML object>"
      ]
     },
     "metadata": {},
     "output_type": "display_data"
    }
   ],
   "source": [
    "# Computed\n",
    "factorsCount = len(factors)\n",
    "configsCount = len(scalars_wide)//repetitionsCount\n",
    "print('Configs:', configsCount)\n",
    "totalSims = configsCount*repetitionsCount\n",
    "\n",
    "\n",
    "display(HTML(\"<style>div.output_scroll { height: auto; max-height: 48em; }</style>\"))\n",
    "pd.set_option('display.max_rows', totalSims)\n",
    "pd.set_option('display.max_columns', 100)\n",
    "if saveFigures:\n",
    "    os.makedirs('figures', exist_ok=True)"
   ]
  },
  {
   "cell_type": "markdown",
   "id": "considerable-wings",
   "metadata": {},
   "source": [
    "## Load histograms"
   ]
  },
  {
   "cell_type": "code",
   "execution_count": 7,
   "id": "grateful-democracy",
   "metadata": {},
   "outputs": [],
   "source": [
    "histograms = df[df.type == 'histogram']\n",
    "histograms = histograms.assign(qname = histograms.module + '.' + histograms.name)\n",
    "histograms = histograms[histograms.qname.isin(histFilter)]\n",
    "for index in scalars_wide.index:\n",
    "    r = index\n",
    "    cfg = scalars_wide.loc[index, 'config']\n",
    "    rep = scalars_wide.loc[index, 'repetition']\n",
    "    histograms.loc[histograms.run == r, 'config'] = cfg\n",
    "    histograms.loc[histograms.run == r, 'repetition'] = rep\n",
    "    for histname, _, _ in histNames:\n",
    "        histograms.loc[(histograms.run == r) & (histograms.qname == histname), 'binsize'] = histograms.loc[(histograms.run == r) & (histograms.qname == histname), 'binedges'].values[0][1] - histograms.loc[(histograms.run == r) & (histograms.qname == histname), 'binedges'].values[0][0]\n",
    "        histograms.loc[(histograms.run == r) & (histograms.qname == histname), 'binmin'] = histograms.loc[(histograms.run == r) & (histograms.qname == histname), 'binedges'].values[0].min()\n",
    "        histograms.loc[(histograms.run == r) & (histograms.qname == histname), 'binmax'] = histograms.loc[(histograms.run == r) & (histograms.qname == histname), 'binedges'].values[0].max()\n",
    "histograms.sort_values(['config', 'repetition', 'qname'], inplace=True)\n",
    "\n",
    "for cfg in range(0, configsCount):\n",
    "    for histname, _, _ in histNames:\n",
    "        histograms.loc[(histograms.config == cfg) & (histograms.qname == histname), 'binsizelcm'] = np.lcm.reduce(list(map(int, histograms.loc[(histograms.config == cfg) & (histograms.qname == histname), 'binsize'].values.tolist())))\n",
    "        histograms.loc[(histograms.config == cfg) & (histograms.qname == histname), 'binminall'] = histograms.loc[(histograms.config == cfg) & (histograms.qname == histname), 'binmin'].min()\n",
    "        histograms.loc[(histograms.config == cfg) & (histograms.qname == histname), 'binmaxall'] = histograms.loc[(histograms.config == cfg) & (histograms.qname == histname), 'binmax'].max()\n",
    "histograms = histograms[['config', 'repetition', 'qname', 'binmin', 'binmax', 'binsize', 'binedges', 'binvalues', 'binminall', 'binmaxall', 'binsizelcm']]"
   ]
  },
  {
   "cell_type": "markdown",
   "id": "numerical-samba",
   "metadata": {},
   "source": [
    "## Compute means and ranges"
   ]
  },
  {
   "cell_type": "code",
   "execution_count": 8,
   "id": "secure-penetration",
   "metadata": {},
   "outputs": [
    {
     "ename": "ZeroDivisionError",
     "evalue": "division by zero",
     "output_type": "error",
     "traceback": [
      "\u001b[0;31m---------------------------------------------------------------------------\u001b[0m",
      "\u001b[0;31mZeroDivisionError\u001b[0m                         Traceback (most recent call last)",
      "\u001b[0;32m<ipython-input-8-7ce611676440>\u001b[0m in \u001b[0;36m<module>\u001b[0;34m\u001b[0m\n\u001b[1;32m     41\u001b[0m         \u001b[0mbinstep\u001b[0m \u001b[0;34m=\u001b[0m \u001b[0mint\u001b[0m\u001b[0;34m(\u001b[0m\u001b[0mstepMultiplier\u001b[0m\u001b[0;34m)\u001b[0m \u001b[0;34m*\u001b[0m \u001b[0mint\u001b[0m\u001b[0;34m(\u001b[0m\u001b[0mhistograms\u001b[0m\u001b[0;34m.\u001b[0m\u001b[0mloc\u001b[0m\u001b[0;34m[\u001b[0m\u001b[0;34m(\u001b[0m\u001b[0mhistograms\u001b[0m\u001b[0;34m.\u001b[0m\u001b[0mconfig\u001b[0m \u001b[0;34m==\u001b[0m \u001b[0mcfg\u001b[0m\u001b[0;34m)\u001b[0m \u001b[0;34m&\u001b[0m \u001b[0;34m(\u001b[0m\u001b[0mhistograms\u001b[0m\u001b[0;34m.\u001b[0m\u001b[0mqname\u001b[0m \u001b[0;34m==\u001b[0m \u001b[0mhistname\u001b[0m\u001b[0;34m)\u001b[0m\u001b[0;34m,\u001b[0m \u001b[0;34m'binsizelcm'\u001b[0m\u001b[0;34m]\u001b[0m\u001b[0;34m.\u001b[0m\u001b[0mvalues\u001b[0m\u001b[0;34m[\u001b[0m\u001b[0;36m0\u001b[0m\u001b[0;34m]\u001b[0m\u001b[0;34m)\u001b[0m\u001b[0;34m\u001b[0m\u001b[0;34m\u001b[0m\u001b[0m\n\u001b[1;32m     42\u001b[0m         \u001b[0mbinmax\u001b[0m \u001b[0;34m=\u001b[0m \u001b[0;36m1\u001b[0m \u001b[0;34m+\u001b[0m \u001b[0mint\u001b[0m\u001b[0;34m(\u001b[0m\u001b[0mhistograms\u001b[0m\u001b[0;34m.\u001b[0m\u001b[0mloc\u001b[0m\u001b[0;34m[\u001b[0m\u001b[0;34m(\u001b[0m\u001b[0mhistograms\u001b[0m\u001b[0;34m.\u001b[0m\u001b[0mconfig\u001b[0m \u001b[0;34m==\u001b[0m \u001b[0mcfg\u001b[0m\u001b[0;34m)\u001b[0m \u001b[0;34m&\u001b[0m \u001b[0;34m(\u001b[0m\u001b[0mhistograms\u001b[0m\u001b[0;34m.\u001b[0m\u001b[0mqname\u001b[0m \u001b[0;34m==\u001b[0m \u001b[0mhistname\u001b[0m\u001b[0;34m)\u001b[0m\u001b[0;34m,\u001b[0m \u001b[0;34m'binmaxall'\u001b[0m\u001b[0;34m]\u001b[0m\u001b[0;34m.\u001b[0m\u001b[0mvalues\u001b[0m\u001b[0;34m[\u001b[0m\u001b[0;36m0\u001b[0m\u001b[0;34m]\u001b[0m\u001b[0;34m)\u001b[0m\u001b[0;34m\u001b[0m\u001b[0;34m\u001b[0m\u001b[0m\n\u001b[0;32m---> 43\u001b[0;31m         \u001b[0mbins\u001b[0m \u001b[0;34m=\u001b[0m \u001b[0mnp\u001b[0m\u001b[0;34m.\u001b[0m\u001b[0marange\u001b[0m\u001b[0;34m(\u001b[0m\u001b[0mbinmin\u001b[0m\u001b[0;34m,\u001b[0m \u001b[0mbinmax\u001b[0m\u001b[0;34m,\u001b[0m \u001b[0mbinstep\u001b[0m\u001b[0;34m)\u001b[0m\u001b[0;34m\u001b[0m\u001b[0;34m\u001b[0m\u001b[0m\n\u001b[0m\u001b[1;32m     44\u001b[0m         \u001b[0mtotalSize\u001b[0m \u001b[0;34m=\u001b[0m \u001b[0;34m(\u001b[0m\u001b[0mbinmax\u001b[0m \u001b[0;34m-\u001b[0m \u001b[0mbinmin\u001b[0m \u001b[0;34m-\u001b[0m \u001b[0;36m1\u001b[0m\u001b[0;34m)\u001b[0m\u001b[0;34m//\u001b[0m\u001b[0mbinstep\u001b[0m\u001b[0;34m\u001b[0m\u001b[0;34m\u001b[0m\u001b[0m\n\u001b[1;32m     45\u001b[0m         \u001b[0mmeanValues\u001b[0m \u001b[0;34m=\u001b[0m \u001b[0mnp\u001b[0m\u001b[0;34m.\u001b[0m\u001b[0mzeros\u001b[0m\u001b[0;34m(\u001b[0m\u001b[0mtotalSize\u001b[0m\u001b[0;34m)\u001b[0m\u001b[0;34m\u001b[0m\u001b[0;34m\u001b[0m\u001b[0m\n",
      "\u001b[0;31mZeroDivisionError\u001b[0m: division by zero"
     ]
    }
   ],
   "source": [
    "def get_values_for_bin(hist, low, high):\n",
    "    edges = hist['binedges'].values[0]\n",
    "    values = hist['binvalues'].values[0]\n",
    "    inbin = []\n",
    "    lowidx = 0\n",
    "    highidx = 0\n",
    "    for edge in edges:\n",
    "        if edge < low:\n",
    "            lowidx += 1\n",
    "        if edge < high:\n",
    "            highidx += 1\n",
    "            continue\n",
    "        break\n",
    "    minval = math.inf\n",
    "    maxval = -math.inf\n",
    "    for i in range(lowidx, highidx):\n",
    "        if i > len(values) - 1:\n",
    "            break\n",
    "        inbin.append(values[i])\n",
    "        if values[i] < minval:\n",
    "            minval = values[i]\n",
    "        if values[i] > maxval:\n",
    "            maxval = values[i]\n",
    "    if len(inbin) == 0:\n",
    "        return (minval, 0, maxval)\n",
    "    return (minval, sum(inbin) / len(inbin), maxval)\n",
    "        \n",
    "\n",
    "cols = ['config']\n",
    "for histname, _, _ in histNames:\n",
    "    name = histname[histname.index('.')+1:histname.index(':')]\n",
    "    cols.append(name + 'Bins')\n",
    "    cols.append(name + 'MeanValues')\n",
    "    cols.append(name + 'LowValues')\n",
    "    cols.append(name + 'HighValues')\n",
    "data = []\n",
    "for cfg in range(0, configsCount):\n",
    "    curdata = [cfg]\n",
    "    for histname, _, stepMultiplier in histNames:\n",
    "        binmin = int(histograms.loc[(histograms.config == cfg) & (histograms.qname == histname), 'binminall'].values[0])\n",
    "        binstep = int(stepMultiplier) * int(histograms.loc[(histograms.config == cfg) & (histograms.qname == histname), 'binsizelcm'].values[0])\n",
    "        binmax = 1 + int(histograms.loc[(histograms.config == cfg) & (histograms.qname == histname), 'binmaxall'].values[0])\n",
    "        bins = np.arange(binmin, binmax, binstep)\n",
    "        totalSize = (binmax - binmin - 1)//binstep\n",
    "        meanValues = np.zeros(totalSize)\n",
    "        lowValues = np.full(totalSize, math.inf)\n",
    "        highValues = np.full(totalSize, -math.inf)\n",
    "        for rep in range(0, repetitionsCount):\n",
    "            curHist = histograms[(histograms.config == cfg) & (histograms.qname == histname) & (histograms.repetition == rep)]\n",
    "            num = 0\n",
    "            for binlow, binhigh in zip(range(binmin, binmax - 1, binstep), range(binmin + binstep, binmax + binstep, binstep)):\n",
    "                values = get_values_for_bin(curHist, binlow, binhigh)\n",
    "                if lowValues[num] > values[0]:\n",
    "                    lowValues[num] = values[0]\n",
    "                meanValues[num] += values[1]\n",
    "                if highValues[num] < values[2]:\n",
    "                    highValues[num] = values[2]\n",
    "                num += 1\n",
    "        for i in range(0, len(meanValues)):\n",
    "            meanValues[i] = meanValues[i] / repetitionsCount\n",
    "        curdata.append(bins)\n",
    "        curdata.append(meanValues)\n",
    "        curdata.append(lowValues)\n",
    "        curdata.append(highValues)\n",
    "    data.append(curdata)\n",
    "plotdf = pd.DataFrame.from_records(data, columns=cols, index='config')"
   ]
  },
  {
   "cell_type": "markdown",
   "id": "english-extraction",
   "metadata": {},
   "source": [
    "## Plots"
   ]
  },
  {
   "cell_type": "code",
   "execution_count": null,
   "id": "rotary-handy",
   "metadata": {},
   "outputs": [],
   "source": [
    "for cfg, hist in plotdf.iterrows():\n",
    "    print('Config ' + str(cfg))\n",
    "    display(scalars_wide.loc[(scalars_wide.repetition == 0) & (scalars_wide.config == cfg)][['config', *factors]])\n",
    "    for histName, histDesc, _ in histNames:\n",
    "        name = histName[histName.index('.')+1:histName.index(':')]\n",
    "        bins = hist[name + 'Bins']\n",
    "        means = hist[name + 'MeanValues']\n",
    "        lows = hist[name + 'LowValues']\n",
    "        highs = hist[name + 'HighValues']\n",
    "        bincenters = 0.5*(bins[1:]+bins[:-1])\n",
    "        ranges = [x for x in zip(lows, highs)]\n",
    "        ranges = np.array(ranges).T\n",
    "        plt.bar(bincenters, means, width=1, yerr=ranges, error_kw={'capsize': 3})\n",
    "        plt.title('Histogram for the ' + histDesc)\n",
    "        plt.xlabel(name)\n",
    "        if saveFigures:\n",
    "            fig = plt.gcf()\n",
    "            fig.savefig('figures/' + get_file_name(histName) + '-' + str(cfg) + '-perfplot.png')\n",
    "        plt.show()\n",
    "    print('#######################')\n",
    "    print()"
   ]
  }
 ],
 "metadata": {
  "kernelspec": {
   "display_name": "Python 3",
   "language": "python",
   "name": "python3"
  },
  "language_info": {
   "codemirror_mode": {
    "name": "ipython",
    "version": 3
   },
   "file_extension": ".py",
   "mimetype": "text/x-python",
   "name": "python",
   "nbconvert_exporter": "python",
   "pygments_lexer": "ipython3",
   "version": "3.9.5"
  }
 },
 "nbformat": 4,
 "nbformat_minor": 5
}
