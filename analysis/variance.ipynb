{
 "cells": [
  {
   "cell_type": "markdown",
   "id": "indoor-tonight",
   "metadata": {},
   "source": [
    "# Plot variance"
   ]
  },
  {
   "cell_type": "code",
   "execution_count": null,
   "id": "opening-maker",
   "metadata": {
    "scrolled": true
   },
   "outputs": [],
   "source": [
    "import os\n",
    "import math\n",
    "import pandas as pd\n",
    "import numpy as np\n",
    "import matplotlib.pyplot as plt\n",
    "from scipy import stats\n",
    "from IPython.display import display, HTML\n",
    "%matplotlib inline\n",
    "\n",
    "def parse_if_number(s):\n",
    "    try: return float(s)\n",
    "    except: return True if s==\"true\" else False if s==\"false\" else s if s else None\n",
    "\n",
    "def parse_ndarray(s):\n",
    "    return np.fromstring(s, sep=' ') if s else None\n",
    "\n",
    "def get_file_name(name):\n",
    "    return name.replace(':', '-')"
   ]
  },
  {
   "cell_type": "markdown",
   "id": "controlling-scanning",
   "metadata": {},
   "source": [
    "## Config"
   ]
  },
  {
   "cell_type": "code",
   "execution_count": null,
   "id": "august-english",
   "metadata": {
    "scrolled": true
   },
   "outputs": [],
   "source": [
    "inputFile = 'data.csv'\n",
    "repetitionsCount = -1 # -1 = auto-detect\n",
    "factors = ['R', 'T', 'm', 'D']\n",
    "\n",
    "# Plots\n",
    "plotSize = (10, 10)\n",
    "plotStyle = 'seaborn-whitegrid'\n",
    "scatterShowLines = False\n",
    "# Save\n",
    "saveFigures = False\n",
    "\n",
    "# Filter scalars\n",
    "scalarsFilter = ['Floorplan.userCount', 'Floorplan.coveredUsers:sum', 'Floorplan.collisions:sum', 'Floorplan.msgsPerSlot:sum']\n",
    "# Filter vectors\n",
    "vectorsFilter = ['Floorplan.coveredUsers:vector']\n",
    "# Percentiles\n",
    "percentiles = [0.25, 0.5, 0.75, 0.9, 0.95]\n",
    "\n",
    "# Residuals to compute\n",
    "residualNames = [\n",
    "    ('coveredUsersPercent', 'percentage of covered users (residuals)'),\n",
    "    ('collisions', 'total number of collisions (residuals)'),\n",
    "    ('msgsPerSlot', 'total number of messages sent (residuals)'),\n",
    "]\n",
    "\n",
    "intPercentiles = [int(i*100) for i in percentiles]\n",
    "vecPerfIndexes = []\n",
    "for intPercentile in intPercentiles:\n",
    "    vecPerfIndexes.append(('broadcastTime' + str(intPercentile), 'Broadcast time needed to reach the ' + str(intPercentile) + 'th percentile of the coverage'))\n",
    "for i, d in vecPerfIndexes:\n",
    "    residualNames.append((i, d + ' (residuals)'))"
   ]
  },
  {
   "cell_type": "markdown",
   "id": "flying-dealing",
   "metadata": {},
   "source": [
    "## Load scalars"
   ]
  },
  {
   "cell_type": "code",
   "execution_count": null,
   "id": "supreme-harassment",
   "metadata": {
    "scrolled": true
   },
   "outputs": [],
   "source": [
    "df = pd.read_csv('exported_data/' + inputFile, converters = {\n",
    "    'attrvalue': parse_if_number,\n",
    "    'binedges': parse_ndarray,\n",
    "    'binvalues': parse_ndarray,\n",
    "    'vectime': parse_ndarray,\n",
    "    'vecvalue': parse_ndarray,\n",
    "})"
   ]
  },
  {
   "cell_type": "code",
   "execution_count": null,
   "id": "sealed-triangle",
   "metadata": {},
   "outputs": [],
   "source": [
    "if repetitionsCount <= 0: # auto-detect\n",
    "    repetitionsCount = int(df[df.attrname == 'repetition']['attrvalue'].max()) + 1\n",
    "print('Repetitions:', repetitionsCount)\n",
    "\n",
    "# Computed\n",
    "factorsCount = len(factors)\n",
    "configsCount = 2**factorsCount\n",
    "totalSims = configsCount*repetitionsCount\n",
    "\n",
    "# Scatter plot whitelists\n",
    "configsShown = range(0, configsCount)\n",
    "repetitionsShown = range(0, repetitionsCount)\n",
    "\n",
    "\n",
    "display(HTML(\"<style>div.output_scroll { height: auto; max-height: 48em; }</style>\"))\n",
    "pd.set_option('display.max_rows', totalSims)\n",
    "if saveFigures:\n",
    "    os.makedirs('figures', exist_ok=True)"
   ]
  },
  {
   "cell_type": "code",
   "execution_count": null,
   "id": "later-magazine",
   "metadata": {
    "scrolled": true
   },
   "outputs": [],
   "source": [
    "scalars = df[(df.type == 'scalar') | ((df.type == 'itervar') & (df.attrname != 'TO')) | ((df.type == 'param') & (df.attrname == 'Floorplan.userCount')) | ((df.type == 'runattr') & (df.attrname == 'repetition'))]\n",
    "scalars = scalars.assign(qname = scalars.attrname.combine_first(scalars.module + '.' + scalars.name))\n",
    "for index, row in scalars[scalars.type == 'itervar'].iterrows():\n",
    "    val = scalars.loc[index, 'attrvalue']\n",
    "    if isinstance(val, str)  and not all(c.isdigit() for c in val):\n",
    "        scalars.loc[index, 'attrvalue'] = eval(val)\n",
    "scalars.value = scalars.value.combine_first(scalars.attrvalue.astype('float64'))\n",
    "scalars_wide = scalars.pivot_table(index=['run'], columns='qname', values='value')\n",
    "scalars_wide.sort_values([*factors, 'repetition'], inplace=True)\n",
    "count = 0\n",
    "for index in scalars_wide.index:\n",
    "    config = count // repetitionsCount\n",
    "    scalars_wide.loc[index, 'config'] = config\n",
    "    count += 1\n",
    "scalars_wide = scalars_wide[['config', 'repetition', *factors, *scalarsFilter]]\n",
    "\n",
    "# coverage\n",
    "scalars_wide['coveredUsersPercent'] = scalars_wide['Floorplan.coveredUsers:sum'] / (scalars_wide['Floorplan.userCount'] - 1)"
   ]
  },
  {
   "cell_type": "markdown",
   "id": "noticed-magnet",
   "metadata": {},
   "source": [
    "## Load vectors"
   ]
  },
  {
   "cell_type": "code",
   "execution_count": null,
   "id": "contrary-horizontal",
   "metadata": {},
   "outputs": [],
   "source": [
    "vectors = df[df.type == 'vector']\n",
    "vectors = vectors.assign(qname = vectors.module + '.' + vectors.name)\n",
    "for index in scalars_wide.index:\n",
    "    r = index\n",
    "    cfg = scalars_wide.loc[index, 'config']\n",
    "    rep = scalars_wide.loc[index, 'repetition']\n",
    "    vectors.loc[vectors.run == r, 'config'] = cfg\n",
    "    vectors.loc[vectors.run == r, 'repetition'] = rep\n",
    "vectors = vectors[vectors.qname.isin(vectorsFilter)]\n",
    "vectors.sort_values(['config', 'repetition', 'qname'], inplace=True)\n",
    "vectors = vectors[['config', 'repetition', 'qname', 'vectime', 'vecvalue']]"
   ]
  },
  {
   "cell_type": "markdown",
   "id": "stable-eight",
   "metadata": {},
   "source": [
    "## Compute scalars from vectors"
   ]
  },
  {
   "cell_type": "code",
   "execution_count": null,
   "id": "passing-diamond",
   "metadata": {},
   "outputs": [],
   "source": [
    "def get_percentile(percentile, vectime, vecvalue, totalvalue):\n",
    "    tofind = percentile * totalvalue\n",
    "    idx = 0\n",
    "    csum = vecvalue.cumsum()\n",
    "    for value in csum:\n",
    "        if value >= tofind:\n",
    "            return vectime[idx]\n",
    "        idx += 1\n",
    "    return math.inf\n",
    "\n",
    "for index, row in vectors.iterrows():\n",
    "    for vecPerf, percentile in zip(vecPerfIndexes, percentiles):\n",
    "        vecPerfIndex = vecPerf[0]\n",
    "        cfg = row['config']\n",
    "        rep = row['repetition']\n",
    "        if vecPerfIndex.startswith('broadcastTime'):\n",
    "            total = scalars_wide[(scalars_wide['config'] == cfg) & (scalars_wide['repetition'] == rep)]['Floorplan.userCount'].values[0] - 1\n",
    "        else:\n",
    "            raise Exception('Need to specify total for ' + vecPerfIndex + '. (coding required)')\n",
    "        value = get_percentile(percentile, row['vectime'], row['vecvalue'], total)\n",
    "        scalars_wide.loc[(scalars_wide['config'] == cfg) & (scalars_wide['repetition'] == rep), vecPerfIndex] = value"
   ]
  },
  {
   "cell_type": "markdown",
   "id": "divided-antigua",
   "metadata": {},
   "source": [
    "## Compute residuals"
   ]
  },
  {
   "cell_type": "code",
   "execution_count": null,
   "id": "combined-filling",
   "metadata": {
    "scrolled": true
   },
   "outputs": [],
   "source": [
    "# coverage\n",
    "scalars_wide['coveredUsersPercentMean'] = scalars_wide.groupby(factors)['coveredUsersPercent'].transform('mean')\n",
    "scalars_wide['coveredUsersPercentResidual'] = scalars_wide['coveredUsersPercent'] - scalars_wide['coveredUsersPercentMean']\n",
    "\n",
    "# collisions\n",
    "scalars_wide['collisionsMean'] = scalars_wide.groupby(factors)['Floorplan.collisions:sum'].transform('mean')\n",
    "scalars_wide['collisionsResidual'] = scalars_wide['Floorplan.collisions:sum'] - scalars_wide['collisionsMean']\n",
    "\n",
    "# msgsPerSlot\n",
    "scalars_wide['msgsPerSlotMean'] = scalars_wide.groupby(factors)['Floorplan.msgsPerSlot:sum'].transform('mean')\n",
    "scalars_wide['msgsPerSlotResidual'] = scalars_wide['Floorplan.msgsPerSlot:sum'] - scalars_wide['msgsPerSlotMean']\n",
    "\n",
    "# vectors\n",
    "skipped = []\n",
    "for vecPerfIndex, _ in vecPerfIndexes:\n",
    "    mean = scalars_wide.groupby(factors)[vecPerfIndex].transform('mean')\n",
    "    nextVect = False\n",
    "    for value in mean.values:\n",
    "        if math.isinf(value):\n",
    "            skipped.append(vecPerfIndex)\n",
    "            nextVect = True\n",
    "            continue\n",
    "    if nextVect:\n",
    "        continue\n",
    "    scalars_wide[vecPerfIndex + 'Mean'] = mean\n",
    "    scalars_wide[vecPerfIndex + 'Residual'] = scalars_wide[vecPerfIndex] - scalars_wide[vecPerfIndex + 'Mean']\n",
    "for i, d in vecPerfIndexes:\n",
    "    if i not in skipped:\n",
    "        continue\n",
    "    print(i + ' skipped due to infinite values in observations')\n",
    "    residualNames.remove((i, d + ' (residuals)'))"
   ]
  },
  {
   "cell_type": "markdown",
   "id": "collaborative-going",
   "metadata": {},
   "source": [
    "## Plot variance"
   ]
  },
  {
   "cell_type": "code",
   "execution_count": null,
   "id": "prescribed-valentine",
   "metadata": {
    "scrolled": true
   },
   "outputs": [],
   "source": [
    "display(scalars_wide.loc[(scalars_wide.repetition == 0) & (scalars_wide.config.isin(configsShown))][['config', *factors]])\n",
    "for varname, vardesc in residualNames:\n",
    "    y = []\n",
    "    x = []\n",
    "    for config in range(0, configsCount):\n",
    "        if config not in configsShown:\n",
    "            continue\n",
    "        x.append([config] * len(repetitionsShown))\n",
    "        y.append(scalars_wide.loc[(scalars_wide.config == config) & (scalars_wide.repetition.isin(repetitionsShown))][varname + 'Residual'].values.tolist())\n",
    "    plt.figure(figsize=plotSize)\n",
    "    plt.style.use(plotStyle)\n",
    "    plt.plot(x, y, 'o' + ('-' if scatterShowLines else ''))\n",
    "    plt.title(\"Test independency for the \" + vardesc)\n",
    "    plt.xlabel(\"Config number\")\n",
    "    plt.ylabel(\"Residuals\")\n",
    "    if saveFigures:\n",
    "        fig = plt.gcf()\n",
    "        fig.savefig('figures/' + get_file_name(varname) + '-variance.png')\n",
    "    plt.show()"
   ]
  }
 ],
 "metadata": {
  "kernelspec": {
   "display_name": "Python 3",
   "language": "python",
   "name": "python3"
  },
  "language_info": {
   "codemirror_mode": {
    "name": "ipython",
    "version": 3
   },
   "file_extension": ".py",
   "mimetype": "text/x-python",
   "name": "python",
   "nbconvert_exporter": "python",
   "pygments_lexer": "ipython3",
   "version": "3.9.2rc1"
  }
 },
 "nbformat": 4,
 "nbformat_minor": 5
}
