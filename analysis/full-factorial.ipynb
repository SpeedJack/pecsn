{
 "cells": [
  {
   "cell_type": "markdown",
   "id": "509478b8",
   "metadata": {},
   "source": [
    "# Full Factorial Analysis"
   ]
  },
  {
   "cell_type": "code",
   "execution_count": null,
   "id": "42412eaa",
   "metadata": {},
   "outputs": [],
   "source": [
    "import os\n",
    "import math\n",
    "import pandas as pd\n",
    "import numpy as np\n",
    "import matplotlib.pyplot as plt\n",
    "from itertools import product, chain, combinations\n",
    "from scipy import stats\n",
    "from IPython.display import display, HTML\n",
    "%matplotlib inline\n",
    "\n",
    "def parse_if_number(s):\n",
    "    try: return float(s)\n",
    "    except: return True if s==\"true\" else False if s==\"false\" else s if s else None\n",
    "\n",
    "def parse_ndarray(s):\n",
    "    return np.fromstring(s, sep=' ') if s else None\n",
    "\n",
    "def get_file_name(name):\n",
    "    return name.replace(':', '-')"
   ]
  },
  {
   "cell_type": "markdown",
   "id": "847a1ace",
   "metadata": {},
   "source": [
    "## Config"
   ]
  },
  {
   "cell_type": "code",
   "execution_count": null,
   "id": "2659eb3e",
   "metadata": {},
   "outputs": [],
   "source": [
    "inputFile = 'data.csv'\n",
    "repetitionsCount = -1 # -1 = auto-detect\n",
    "factors = ['R', 'T', 'm', 'D']\n",
    "\n",
    "tIntervalAlpha = 0.95\n",
    "\n",
    "plotSize = (10, 10)\n",
    "plotStyle = 'seaborn-whitegrid'\n",
    "saveFigures = False\n",
    "\n",
    "# Filter scalars\n",
    "scalarsFilter = ['Floorplan.userCount', 'Floorplan.coveredUsers:sum', 'Floorplan.collisions:sum', 'Floorplan.msgsPerSlot:sum']\n",
    "# Filter vectors\n",
    "vectorsFilter = ['Floorplan.coveredUsers:vector']\n",
    "# Percentiles\n",
    "percentiles = [0.25, 0.5, 0.75, 0.9, 0.95]\n",
    "\n",
    "# Performance indexes\n",
    "perfIndexes = [\n",
    "    ('coveredUsersPercent', 'percentage of covered users'),\n",
    "    ('Floorplan.collisions:sum', 'total number of collisions'),\n",
    "    ('Floorplan.msgsPerSlot:sum', 'total number of messages sent'),\n",
    "]\n",
    "\n",
    "# Transformations\n",
    "transformations = [\n",
    "]\n",
    "\n",
    "intPercentiles = [int(i*100) for i in percentiles]\n",
    "vecPerfIndexes = []\n",
    "for intPercentile in intPercentiles:\n",
    "    vecPerfIndexes.append(('broadcastTime' + str(intPercentile), 'Broadcast time needed to reach the ' + str(intPercentile) + 'th percentile of the coverage'))\n",
    "for v in vecPerfIndexes:\n",
    "    perfIndexes.append(v)\n",
    "    #transformations.append((v[0], lambda x: math.log(x)))"
   ]
  },
  {
   "cell_type": "markdown",
   "id": "04bf99b0",
   "metadata": {},
   "source": [
    "## Load scalars"
   ]
  },
  {
   "cell_type": "code",
   "execution_count": null,
   "id": "fba25a9c",
   "metadata": {},
   "outputs": [],
   "source": [
    "df = pd.read_csv('exported_data/' + inputFile, converters = {\n",
    "    'attrvalue': parse_if_number,\n",
    "    'binedges': parse_ndarray,\n",
    "    'binvalues': parse_ndarray,\n",
    "    'vectime': parse_ndarray,\n",
    "    'vecvalue': parse_ndarray,\n",
    "})"
   ]
  },
  {
   "cell_type": "code",
   "execution_count": null,
   "id": "8e765bed",
   "metadata": {},
   "outputs": [],
   "source": [
    "if repetitionsCount <= 0: # auto-detect\n",
    "    repetitionsCount = int(df[df.attrname == 'repetition']['attrvalue'].max()) + 1\n",
    "print('Repetitions:', repetitionsCount)\n",
    "\n",
    "# Computed\n",
    "factorsCount = len(factors)\n",
    "\n",
    "if saveFigures:\n",
    "    os.makedirs('figures', exist_ok=True)"
   ]
  },
  {
   "cell_type": "code",
   "execution_count": null,
   "id": "3fb79c33",
   "metadata": {},
   "outputs": [],
   "source": [
    "scalars = df[(df.type == 'scalar') | ((df.type == 'itervar') & (df.attrname != 'TO')) | ((df.type == 'param') & (df.attrname == 'Floorplan.userCount')) | ((df.type == 'runattr') & (df.attrname == 'repetition'))]\n",
    "scalars = scalars.assign(qname = scalars.attrname.combine_first(scalars.module + '.' + scalars.name))\n",
    "for index, row in scalars[scalars.type == 'itervar'].iterrows():\n",
    "    val = scalars.loc[index, 'attrvalue']\n",
    "    if isinstance(val, str)  and not all(c.isdigit() for c in val):\n",
    "        scalars.loc[index, 'attrvalue'] = eval(val)\n",
    "scalars.value = scalars.value.combine_first(scalars.attrvalue.astype('float64'))\n",
    "scalars_wide = scalars.pivot_table(index=['run'], columns='qname', values='value')\n",
    "scalars_wide.sort_values([*factors, 'repetition'], inplace=True)\n",
    "count = 0\n",
    "for index in scalars_wide.index:\n",
    "    config = count // repetitionsCount\n",
    "    scalars_wide.loc[index, 'config'] = config\n",
    "    count += 1\n",
    "scalars_wide = scalars_wide[['config', 'repetition', *factors, *scalarsFilter]]\n",
    "\n",
    "configsCount = int(scalars_wide['config'].max()) + 1\n",
    "totalSims = configsCount*repetitionsCount\n",
    "display(HTML(\"<style>div.output_scroll { height: auto; max-height: 48em; }</style>\"))\n",
    "pd.set_option('display.max_rows', totalSims)\n",
    "pd.set_option('display.max_columns', 100)\n",
    "\n",
    "# coverage\n",
    "scalars_wide['coveredUsersPercent'] = scalars_wide['Floorplan.coveredUsers:sum'] / (scalars_wide['Floorplan.userCount'] - 1)"
   ]
  },
  {
   "cell_type": "markdown",
   "id": "7dedde00",
   "metadata": {},
   "source": [
    "## Load vectors"
   ]
  },
  {
   "cell_type": "code",
   "execution_count": null,
   "id": "b37e2d60",
   "metadata": {},
   "outputs": [],
   "source": [
    "vectors = df[df.type == 'vector']\n",
    "vectors = vectors.assign(qname = vectors.module + '.' + vectors.name)\n",
    "for index in scalars_wide.index:\n",
    "    r = index\n",
    "    cfg = scalars_wide.loc[index, 'config']\n",
    "    rep = scalars_wide.loc[index, 'repetition']\n",
    "    vectors.loc[vectors.run == r, 'config'] = cfg\n",
    "    vectors.loc[vectors.run == r, 'repetition'] = rep\n",
    "vectors = vectors[vectors.qname.isin(vectorsFilter)]\n",
    "vectors.sort_values(['config', 'repetition', 'qname'], inplace=True)\n",
    "vectors = vectors[['config', 'repetition', 'qname', 'vectime', 'vecvalue']]"
   ]
  },
  {
   "cell_type": "markdown",
   "id": "564ff5ac",
   "metadata": {},
   "source": [
    "## Compute scalars from vectors"
   ]
  },
  {
   "cell_type": "code",
   "execution_count": null,
   "id": "ca0e1997",
   "metadata": {},
   "outputs": [],
   "source": [
    "def get_percentile(percentile, vectime, vecvalue, totalvalue):\n",
    "    tofind = percentile * totalvalue\n",
    "    idx = 0\n",
    "    csum = vecvalue.cumsum()\n",
    "    for value in csum:\n",
    "        if value >= tofind:\n",
    "            return vectime[idx]\n",
    "        idx += 1\n",
    "    return math.inf\n",
    "\n",
    "for index, row in vectors.iterrows():\n",
    "    for vecPerf, percentile in zip(vecPerfIndexes, percentiles):\n",
    "        vecPerfIndex = vecPerf[0]\n",
    "        cfg = row['config']\n",
    "        rep = row['repetition']\n",
    "        if vecPerfIndex.startswith('broadcastTime'):\n",
    "            total = scalars_wide[(scalars_wide['config'] == cfg) & (scalars_wide['repetition'] == rep)]['Floorplan.userCount'].values[0] - 1\n",
    "        else:\n",
    "            raise Exception('Need to specify total for ' + vecPerfIndex + '. (coding required)')\n",
    "        value = get_percentile(percentile, row['vectime'], row['vecvalue'], total)\n",
    "        scalars_wide.loc[(scalars_wide['config'] == cfg) & (scalars_wide['repetition'] == rep), vecPerfIndex] = value"
   ]
  },
  {
   "cell_type": "markdown",
   "id": "6c07612e",
   "metadata": {},
   "source": [
    "## Apply transformations"
   ]
  },
  {
   "cell_type": "code",
   "execution_count": null,
   "id": "3902fa05",
   "metadata": {},
   "outputs": [],
   "source": [
    "for col, transform in transformations:\n",
    "    scalars_wide[col] = scalars_wide[col].map(transform, 'ignore')"
   ]
  },
  {
   "cell_type": "markdown",
   "id": "d223ee64",
   "metadata": {},
   "source": [
    "## Full factorial"
   ]
  },
  {
   "cell_type": "code",
   "execution_count": null,
   "id": "8c4a5e06",
   "metadata": {},
   "outputs": [],
   "source": [
    "for cfg in range(0, configsCount):\n",
    "    for perfIndex, _ in perfIndexes:\n",
    "        mean = scalars_wide[scalars_wide['config'] == cfg][perfIndex].mean()\n",
    "        variance = scalars_wide[scalars_wide['config'] == cfg][perfIndex].var()\n",
    "        _, positiveInterval = tuple(v*math.sqrt(variance/repetitionsCount) for v in stats.t.interval(tIntervalAlpha, repetitionsCount - 1))\n",
    "        negerr = positiveInterval\n",
    "        poserr = positiveInterval\n",
    "        if perfIndex == 'coveredUsersPercent':\n",
    "            poserr = min(1 - mean, positiveInterval)\n",
    "        scalars_wide.loc[scalars_wide['config'] == cfg, perfIndex + 'Mean'] = mean\n",
    "        scalars_wide.loc[scalars_wide['config'] == cfg, perfIndex + 'Variance'] = variance\n",
    "        scalars_wide.loc[scalars_wide['config'] == cfg, perfIndex + 'Negerr'] = negerr\n",
    "        scalars_wide.loc[scalars_wide['config'] == cfg, perfIndex + 'Poserr'] = poserr\n",
    "scalars_wide = scalars_wide[scalars_wide['repetition'] == 0]\n",
    "\n",
    "for perfIndex, _ in perfIndexes:\n",
    "    del scalars_wide[perfIndex]\n",
    "del scalars_wide['repetition']\n",
    "del scalars_wide['Floorplan.userCount']\n",
    "del scalars_wide['Floorplan.coveredUsers:sum']\n",
    "del scalars_wide['config']\n",
    "\n",
    "scalars_wide       "
   ]
  },
  {
   "cell_type": "code",
   "execution_count": null,
   "id": "4ca3a079",
   "metadata": {},
   "outputs": [],
   "source": [
    "for xFactor in factors:\n",
    "    print('Plotting with', xFactor, 'on the x axis...')\n",
    "    otherFactors = [fac for fac in factors if fac != xFactor]\n",
    "    current = scalars_wide.sort_values([xFactor, *otherFactors])\n",
    "    count = 0\n",
    "    lastVal = None\n",
    "    for index,row in current.iterrows():\n",
    "        if lastVal != None and lastVal != row[xFactor]:\n",
    "            count = 0\n",
    "        current.loc[index, 'config'] = count\n",
    "        count += 1\n",
    "        lastVal = row[xFactor]\n",
    "    x = current[xFactor].unique().tolist()\n",
    "    for perfIndex, perfIndexDesc in perfIndexes:\n",
    "        plt.figure(figsize=plotSize)\n",
    "        plt.style.use(plotStyle)\n",
    "        for cfg in range(0, int(current['config'].max()) + 1):\n",
    "            y = current[current['config'] == cfg][perfIndex + 'Mean'].tolist()\n",
    "            poserr = current[current['config'] == cfg][perfIndex + 'Poserr'].tolist()\n",
    "            negerr = current[current['config'] == cfg][perfIndex + 'Negerr'].tolist()\n",
    "            realy = []\n",
    "            realx = []\n",
    "            realne = []\n",
    "            realpe = []\n",
    "            curIdx = 0\n",
    "            for val in y:\n",
    "                if not math.isinf(val):\n",
    "                    realy.append(val)\n",
    "                    realx.append(x[curIdx])\n",
    "                    realne.append(negerr[curIdx])\n",
    "                    realpe.append(poserr[curIdx])\n",
    "                curIdx += 1\n",
    "            y = realy\n",
    "            negerr = realne\n",
    "            poserr = realpe\n",
    "            err = [negerr, poserr]\n",
    "            lbl = \"\"\n",
    "            for fac in otherFactors:\n",
    "                lbl += fac + '=' + str(current[current['config'] == cfg][fac].tolist()[0]) + ', '\n",
    "            lbl = lbl[:-2]\n",
    "            plt.errorbar(x=np.array(realx), y=np.array(y), yerr=np.array(err), capsize=3, linestyle='-', marker='.', markersize=10, label=lbl)\n",
    "        plt.title('Full factorial plot for ' + perfIndexDesc)\n",
    "        plt.ylabel(perfIndex)\n",
    "        plt.xlabel(xFactor)\n",
    "        plt.legend()\n",
    "        if saveFigures:\n",
    "            fig = plt.gcf()\n",
    "            fig.savefig('figures/' + get_file_name(perfIndex) + '-' + xFactor + '-ffplot.png')\n",
    "        plt.show()\n",
    "    print('########################################')\n",
    "    print()"
   ]
  }
 ],
 "metadata": {
  "kernelspec": {
   "display_name": "Python 3",
   "language": "python",
   "name": "python3"
  },
  "language_info": {
   "codemirror_mode": {
    "name": "ipython",
    "version": 3
   },
   "file_extension": ".py",
   "mimetype": "text/x-python",
   "name": "python",
   "nbconvert_exporter": "python",
   "pygments_lexer": "ipython3",
   "version": "3.9.5"
  }
 },
 "nbformat": 4,
 "nbformat_minor": 5
}
